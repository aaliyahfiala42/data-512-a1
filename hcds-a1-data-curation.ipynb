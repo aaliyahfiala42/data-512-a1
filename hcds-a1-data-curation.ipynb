{
 "cells": [
  {
   "cell_type": "markdown",
   "metadata": {},
   "source": [
    "# A1: Data Curation Assignment\n",
    "### Data 512: Human Centered Data Science\n",
    "#### Aaliyah Hänni\n",
    "#### 10/7/2021"
   ]
  },
  {
   "cell_type": "markdown",
   "metadata": {},
   "source": [
    "## Project Description\n",
    "The goal of this assignment is to construct, analyze, and publish a dataset of monthly traffic on English Wikipedia from January 1 2008 through August 30 2021. "
   ]
  },
  {
   "cell_type": "markdown",
   "metadata": {},
   "source": [
    "## Data Documentation\n",
    "\n",
    "\n",
    "### Wikimedia REST API\n",
    "\n",
    "In order to measure Wikipedia traffic from 2008-2021, you will need to collect data from two different API endpoints, the Legacy Pagecounts API and the Pageviews API.The Legacy Pagecounts API provides access to desktop and mobile traffic data from December 2007 through July 2016.The Pageviews API provides access to desktop, mobile web, and mobile app traffic data from July 2015 through last month.\n",
    "\n",
    "Legacy Pagecounts API Documentation: https://wikitech.wikimedia.org/wiki/Analytics/AQS/Legacy_Pagecounts\n",
    "\n",
    "Pageviews API Documentation:https://wikitech.wikimedia.org/wiki/Analytics/AQS/Pageviews\n",
    "\n",
    "Wikimedia REST APIEndpoint: https://wikimedia.org/api/rest_v1/#/Pagecounts_data_(legacy)/get_metrics_legacy_pagecounts_aggregate_project_access_site_granularity_start_end\n",
    "\n",
    "For each API, you will need to collect data for all months where data is available and then save the raw results into 5 separate JSON source data files (one file per API query type) before continuing to Step 2."
   ]
  },
  {
   "cell_type": "markdown",
   "metadata": {},
   "source": [
    "## Data Acquisition"
   ]
  },
  {
   "cell_type": "code",
   "execution_count": 1,
   "metadata": {},
   "outputs": [],
   "source": [
    "import json\n",
    "import requests"
   ]
  },
  {
   "cell_type": "code",
   "execution_count": 2,
   "metadata": {},
   "outputs": [],
   "source": [
    "endpoint_legacy = 'https://wikimedia.org/api/rest_v1/metrics/legacy/pagecounts/aggregate/{project}/{access-site}/{granularity}/{start}/{end}'\n",
    "\n",
    "endpoint_pageviews = 'https://wikimedia.org/api/rest_v1/metrics/pageviews/aggregate/{project}/{access}/{agent}/{granularity}/{start}/{end}'"
   ]
  },
  {
   "cell_type": "code",
   "execution_count": 3,
   "metadata": {},
   "outputs": [],
   "source": [
    "# Parameters for getting aggregated legacy view data \n",
    "# see: https://wikimedia.org/api/rest_v1/#!/Legacy_data/get_metrics_legacy_pagecounts_aggregate_project_access_site_granularity_start_end\n",
    "params_legacy_mobile = {\"project\" : \"en.wikipedia.org\",\n",
    "                 \"access-site\" : \"mobile-site\",\n",
    "                 \"granularity\" : \"monthly\",\n",
    "                 \"start\" : \"2008010100\",\n",
    "                # for end use 1st day of month following final month of data\n",
    "                 \"end\" : \"2016080100\"\n",
    "                    }\n",
    "\n",
    "params_legacy_desktop = {\"project\" : \"en.wikipedia.org\",\n",
    "                 \"access-site\" : \"desktop-site\",\n",
    "                 \"granularity\" : \"monthly\",\n",
    "                 \"start\" : \"2008010100\",\n",
    "                # for end use 1st day of month following final month of data\n",
    "                 \"end\" : \"2016080100\"\n",
    "                    }\n",
    "\n",
    "# Parameters for getting aggregated current standard pageview data\n",
    "# see: https://wikimedia.org/api/rest_v1/#!/Pageviews_data/get_metrics_pageviews_aggregate_project_access_agent_granularity_start_end\n",
    "params_pageviews_mobile_app = {\"project\" : \"en.wikipedia.org\",\n",
    "                    \"access\" : \"mobile-app\",\n",
    "                    \"agent\" : \"user\",\n",
    "                    \"granularity\" : \"monthly\",\n",
    "                    \"start\" : \"2015070100\",\n",
    "                    # for end use 1st day of month following final month of data\n",
    "                    \"end\" : '2021090100'\n",
    "                        }\n",
    "params_pageviews_mobile_web = {\"project\" : \"en.wikipedia.org\",\n",
    "                    \"access\" : \"mobile-web\",\n",
    "                    \"agent\" : \"user\",\n",
    "                    \"granularity\" : \"monthly\",\n",
    "                    \"start\" : \"2015070100\",\n",
    "                    # for end use 1st day of month following final month of data\n",
    "                    \"end\" : '2021090100'\n",
    "                        }\n",
    "params_pageviews_desktop = {\"project\" : \"en.wikipedia.org\",\n",
    "                    \"access\" : \"desktop\",\n",
    "                    \"agent\" : \"user\",\n",
    "                    \"granularity\" : \"monthly\",\n",
    "                    \"start\" : \"2015070100\",\n",
    "                    # for end use 1st day of month following final month of data\n",
    "                    \"end\" : '2021090100'\n",
    "                        }\n",
    "\n",
    "# Customize these with your own information\n",
    "headers = {\n",
    "    'User-Agent': 'https://github.com/aaliyahfiala42',\n",
    "    'From': 'fialaa@uw.edu'\n",
    "}"
   ]
  },
  {
   "cell_type": "code",
   "execution_count": 4,
   "metadata": {},
   "outputs": [],
   "source": [
    "def api_call(endpoint,parameters):\n",
    "    call = requests.get(endpoint.format(**parameters), headers=headers)\n",
    "    response = call.json()\n",
    "    \n",
    "    return response"
   ]
  },
  {
   "cell_type": "code",
   "execution_count": 5,
   "metadata": {},
   "outputs": [],
   "source": [
    "#Get monthly pages views for mobile from Legacy API\n",
    "monthly_legacy_mobile = api_call(endpoint_legacy, params_legacy_mobile)\n",
    "\n",
    "#Get monthly pages views for desktop from Legacy API\n",
    "monthly_legacy_desktop = api_call(endpoint_legacy, params_legacy_desktop)"
   ]
  },
  {
   "cell_type": "code",
   "execution_count": 6,
   "metadata": {},
   "outputs": [],
   "source": [
    "#print(monthly_legacy_mobile)\n",
    "#print(monthly_legacy_desktop)"
   ]
  },
  {
   "cell_type": "code",
   "execution_count": 7,
   "metadata": {},
   "outputs": [],
   "source": [
    "#Get monthly pages views for mobile apps from Pageviews API\n",
    "monthly_pageviews_mobile_app = api_call(endpoint_pageviews, params_pageviews_mobile_app)\n",
    "\n",
    "#Get monthly pages views for mobile web from Pageviews API\n",
    "monthly_pageviews_mobile_web = api_call(endpoint_pageviews, params_pageviews_mobile_web)\n",
    "\n",
    "#Get monthly pages views for desktop from Pageviews API\n",
    "monthly_pageviews_desktop = api_call(endpoint_pageviews, params_pageviews_desktop)\n"
   ]
  },
  {
   "cell_type": "code",
   "execution_count": 8,
   "metadata": {},
   "outputs": [],
   "source": [
    "#print(monthly_pageviews_mobile_app)\n",
    "#print(monthly_pageviews_mobile_web)\n",
    "#print(monthly_pageviews_mobile_desktop)"
   ]
  },
  {
   "cell_type": "code",
   "execution_count": 9,
   "metadata": {},
   "outputs": [],
   "source": [
    "#Saving data from APIs to JSON files in the format apiname_accesstype_firstmonth-lastmonth.json\n",
    "\n",
    "with open('legacy_mobile-site_200801-201607.json', 'w') as outfile:\n",
    "    json.dump(monthly_legacy_mobile, outfile)\n",
    "    \n",
    "with open('legacy_desktop-site_200801-201607.json', 'w') as outfile:\n",
    "    json.dump(monthly_legacy_desktop, outfile)\n",
    "\n",
    "with open('pageviews_mobile-app_201507-202108.json', 'w') as outfile:\n",
    "    json.dump(monthly_pageviews_mobile_app, outfile)\n",
    "\n",
    "with open('pageviews_mobile-web_201507-202108.json', 'w') as outfile:\n",
    "    json.dump(monthly_pageviews_mobile_web, outfile)\n",
    "    \n",
    "with open('pageviews_desktop_201507-202108.json', 'w') as outfile:\n",
    "    json.dump(monthly_legacy_desktop, outfile)"
   ]
  },
  {
   "cell_type": "markdown",
   "metadata": {},
   "source": [
    "## Data Processing\n"
   ]
  },
  {
   "cell_type": "markdown",
   "metadata": {},
   "source": [
    "To begin, below we convert the data into Python Dataframes using the Pandas library to allow for ease of processing."
   ]
  },
  {
   "cell_type": "code",
   "execution_count": 10,
   "metadata": {},
   "outputs": [],
   "source": [
    "import pandas as pd"
   ]
  },
  {
   "cell_type": "code",
   "execution_count": 11,
   "metadata": {},
   "outputs": [
    {
     "data": {
      "text/html": [
       "<div>\n",
       "<style scoped>\n",
       "    .dataframe tbody tr th:only-of-type {\n",
       "        vertical-align: middle;\n",
       "    }\n",
       "\n",
       "    .dataframe tbody tr th {\n",
       "        vertical-align: top;\n",
       "    }\n",
       "\n",
       "    .dataframe thead th {\n",
       "        text-align: right;\n",
       "    }\n",
       "</style>\n",
       "<table border=\"1\" class=\"dataframe\">\n",
       "  <thead>\n",
       "    <tr style=\"text-align: right;\">\n",
       "      <th></th>\n",
       "      <th>project</th>\n",
       "      <th>access</th>\n",
       "      <th>agent</th>\n",
       "      <th>granularity</th>\n",
       "      <th>timestamp</th>\n",
       "      <th>views</th>\n",
       "    </tr>\n",
       "  </thead>\n",
       "  <tbody>\n",
       "    <tr>\n",
       "      <th>0</th>\n",
       "      <td>en.wikipedia</td>\n",
       "      <td>mobile-web</td>\n",
       "      <td>user</td>\n",
       "      <td>monthly</td>\n",
       "      <td>2015070100</td>\n",
       "      <td>3179131148</td>\n",
       "    </tr>\n",
       "    <tr>\n",
       "      <th>1</th>\n",
       "      <td>en.wikipedia</td>\n",
       "      <td>mobile-web</td>\n",
       "      <td>user</td>\n",
       "      <td>monthly</td>\n",
       "      <td>2015080100</td>\n",
       "      <td>3192663889</td>\n",
       "    </tr>\n",
       "    <tr>\n",
       "      <th>2</th>\n",
       "      <td>en.wikipedia</td>\n",
       "      <td>mobile-web</td>\n",
       "      <td>user</td>\n",
       "      <td>monthly</td>\n",
       "      <td>2015090100</td>\n",
       "      <td>3073981649</td>\n",
       "    </tr>\n",
       "    <tr>\n",
       "      <th>3</th>\n",
       "      <td>en.wikipedia</td>\n",
       "      <td>mobile-web</td>\n",
       "      <td>user</td>\n",
       "      <td>monthly</td>\n",
       "      <td>2015100100</td>\n",
       "      <td>3173975355</td>\n",
       "    </tr>\n",
       "    <tr>\n",
       "      <th>4</th>\n",
       "      <td>en.wikipedia</td>\n",
       "      <td>mobile-web</td>\n",
       "      <td>user</td>\n",
       "      <td>monthly</td>\n",
       "      <td>2015110100</td>\n",
       "      <td>3142247145</td>\n",
       "    </tr>\n",
       "  </tbody>\n",
       "</table>\n",
       "</div>"
      ],
      "text/plain": [
       "        project      access agent granularity   timestamp       views\n",
       "0  en.wikipedia  mobile-web  user     monthly  2015070100  3179131148\n",
       "1  en.wikipedia  mobile-web  user     monthly  2015080100  3192663889\n",
       "2  en.wikipedia  mobile-web  user     monthly  2015090100  3073981649\n",
       "3  en.wikipedia  mobile-web  user     monthly  2015100100  3173975355\n",
       "4  en.wikipedia  mobile-web  user     monthly  2015110100  3142247145"
      ]
     },
     "execution_count": 11,
     "metadata": {},
     "output_type": "execute_result"
    }
   ],
   "source": [
    "#reading in the Legacy Mobile JSON file\n",
    "with open('legacy_mobile-site_200801-201607.json', 'r') as f:\n",
    "    legacy_mobile = json.loads(f.read())\n",
    "    \n",
    "#flattening JSON to format into columns correctly\n",
    "legacy_mobile = pd.json_normalize(legacy_mobile, record_path = ['items'])\n",
    "\n",
    "#preview data to check that it all read in correctly\n",
    "#legacy_mobile.head()\n",
    "\n",
    "\n",
    "\n",
    "#reading in the Legacy Desktop JSON file\n",
    "with open('legacy_desktop-site_200801-201607.json', 'r') as f:\n",
    "    legacy_desktop = json.loads(f.read())\n",
    "    \n",
    "#flattening JSON to format into columns correctly\n",
    "legacy_desktop = pd.json_normalize(legacy_desktop, record_path = ['items'])\n",
    "\n",
    "#preview data to check that it all read in correctly\n",
    "#legacy_desktop.head()\n",
    "\n",
    "\n",
    "\n",
    "#reading in the Pageviews Mobile App JSON file\n",
    "with open('pageviews_mobile-app_201507-202108.json', 'r') as f:\n",
    "    pageviews_mobile_app = json.loads(f.read())\n",
    "    \n",
    "#flattening JSON to format into columns correctly\n",
    "pageviews_mobile_app = pd.json_normalize(pageviews_mobile_app, record_path = ['items'])\n",
    "\n",
    "#preview data to check that it all read in correctly\n",
    "#pageviews_mobile_app.head()\n",
    "\n",
    "\n",
    "\n",
    "#reading in the Pageviews Mobile Web JSON file\n",
    "with open('pageviews_mobile-web_201507-202108.json', 'r') as f:\n",
    "    pageviews_mobile_web = json.loads(f.read())\n",
    "    \n",
    "#flattening JSON to format into columns correctly\n",
    "pageviews_mobile_web = pd.json_normalize(pageviews_mobile_web, record_path = ['items'])\n",
    "\n",
    "#preview data to check that it all read in correctly\n",
    "#pageviews_mobile_web.head()\n",
    "\n",
    "\n",
    "\n",
    "#reading in the Pageviews Desktop JSON file\n",
    "with open('pageviews_mobile-web_201507-202108.json', 'r') as f:\n",
    "    pageviews_desktop = json.loads(f.read())\n",
    "    \n",
    "#flattening JSON to format into columns correctly\n",
    "pageviews_desktop = pd.json_normalize(pageviews_desktop, record_path = ['items'])\n",
    "\n",
    "#preview data to check that it all read in correctly\n",
    "pageviews_desktop.head()"
   ]
  },
  {
   "cell_type": "markdown",
   "metadata": {},
   "source": [
    "### Creating Mobile Total Variable \n",
    "In the steps below, the monthly values for mobile-app and mobile-web from the PageViews API will be combined to obtain the total monthly mobile traffic count for each month."
   ]
  },
  {
   "cell_type": "code",
   "execution_count": 12,
   "metadata": {},
   "outputs": [],
   "source": [
    "#replace all null count months with zeroes\n",
    "pageviews_mobile_web['views'] = pageviews_mobile_web['views'].fillna(0)\n",
    "pageviews_mobile_app['views'] = pageviews_mobile_app['views'].fillna(0)"
   ]
  },
  {
   "cell_type": "code",
   "execution_count": 13,
   "metadata": {},
   "outputs": [],
   "source": [
    "#removing the following fields as they are not needed for further analysis: agent, granularity, project, and access\n",
    "pageviews_mobile_web = pageviews_mobile_web.drop(['agent', 'granularity', 'project', 'access'], axis = 1)\n",
    "pageviews_mobile_app = pageviews_mobile_app.drop(['agent', 'granularity', 'project', 'access'], axis = 1)"
   ]
  },
  {
   "cell_type": "code",
   "execution_count": 14,
   "metadata": {},
   "outputs": [],
   "source": [
    "#merging Pageview Mobile Web and App dataframes \n",
    "pageviews_mobile = pd.merge(pageviews_mobile_web, pageviews_mobile_app, on='timestamp')\n",
    "\n",
    "#creating a new field that is the sum of all mobile views\n",
    "pageviews_mobile_sum = pageviews_mobile['views_x'] + pageviews_mobile['views_y']\n",
    "\n",
    "#adding the new field back into the dataframe\n",
    "pageviews_mobile = pd.concat([pageviews_mobile, pageviews_mobile_sum], axis = 1, names = ['views'])\n",
    "\n",
    "#removing the individual web and app views\n",
    "pageviews_mobile = pageviews_mobile.drop(['views_x', 'views_y'], axis = 1)\n",
    "\n",
    "#relabing the summed column to views for clarity\n",
    "#pageviews_mobile = pageviews_mobile.rename({'0' : 'views'}, axis = 1)"
   ]
  },
  {
   "cell_type": "code",
   "execution_count": 15,
   "metadata": {},
   "outputs": [
    {
     "data": {
      "text/html": [
       "<div>\n",
       "<style scoped>\n",
       "    .dataframe tbody tr th:only-of-type {\n",
       "        vertical-align: middle;\n",
       "    }\n",
       "\n",
       "    .dataframe tbody tr th {\n",
       "        vertical-align: top;\n",
       "    }\n",
       "\n",
       "    .dataframe thead th {\n",
       "        text-align: right;\n",
       "    }\n",
       "</style>\n",
       "<table border=\"1\" class=\"dataframe\">\n",
       "  <thead>\n",
       "    <tr style=\"text-align: right;\">\n",
       "      <th></th>\n",
       "      <th>timestamp</th>\n",
       "      <th>0</th>\n",
       "    </tr>\n",
       "  </thead>\n",
       "  <tbody>\n",
       "    <tr>\n",
       "      <th>0</th>\n",
       "      <td>2015070100</td>\n",
       "      <td>3288755294</td>\n",
       "    </tr>\n",
       "    <tr>\n",
       "      <th>1</th>\n",
       "      <td>2015080100</td>\n",
       "      <td>3302333038</td>\n",
       "    </tr>\n",
       "    <tr>\n",
       "      <th>2</th>\n",
       "      <td>2015090100</td>\n",
       "      <td>3170203333</td>\n",
       "    </tr>\n",
       "    <tr>\n",
       "      <th>3</th>\n",
       "      <td>2015100100</td>\n",
       "      <td>3268499132</td>\n",
       "    </tr>\n",
       "    <tr>\n",
       "      <th>4</th>\n",
       "      <td>2015110100</td>\n",
       "      <td>3236601070</td>\n",
       "    </tr>\n",
       "    <tr>\n",
       "      <th>...</th>\n",
       "      <td>...</td>\n",
       "      <td>...</td>\n",
       "    </tr>\n",
       "    <tr>\n",
       "      <th>69</th>\n",
       "      <td>2021040100</td>\n",
       "      <td>4759095083</td>\n",
       "    </tr>\n",
       "    <tr>\n",
       "      <th>70</th>\n",
       "      <td>2021050100</td>\n",
       "      <td>4976579558</td>\n",
       "    </tr>\n",
       "    <tr>\n",
       "      <th>71</th>\n",
       "      <td>2021060100</td>\n",
       "      <td>4584510417</td>\n",
       "    </tr>\n",
       "    <tr>\n",
       "      <th>72</th>\n",
       "      <td>2021070100</td>\n",
       "      <td>4778909421</td>\n",
       "    </tr>\n",
       "    <tr>\n",
       "      <th>73</th>\n",
       "      <td>2021080100</td>\n",
       "      <td>4732194000</td>\n",
       "    </tr>\n",
       "  </tbody>\n",
       "</table>\n",
       "<p>74 rows × 2 columns</p>\n",
       "</div>"
      ],
      "text/plain": [
       "     timestamp           0\n",
       "0   2015070100  3288755294\n",
       "1   2015080100  3302333038\n",
       "2   2015090100  3170203333\n",
       "3   2015100100  3268499132\n",
       "4   2015110100  3236601070\n",
       "..         ...         ...\n",
       "69  2021040100  4759095083\n",
       "70  2021050100  4976579558\n",
       "71  2021060100  4584510417\n",
       "72  2021070100  4778909421\n",
       "73  2021080100  4732194000\n",
       "\n",
       "[74 rows x 2 columns]"
      ]
     },
     "execution_count": 15,
     "metadata": {},
     "output_type": "execute_result"
    }
   ],
   "source": [
    "\n",
    "pageviews_mobile"
   ]
  },
  {
   "cell_type": "markdown",
   "metadata": {},
   "source": [
    "### Time Formating\n",
    "All date timestamp variables modified to segregate the month (MM) and year (YYYY), discarding days and hours"
   ]
  },
  {
   "cell_type": "code",
   "execution_count": 16,
   "metadata": {},
   "outputs": [],
   "source": [
    "## Time stamp formating for Legacy Mobile\n",
    "#getting the year (YYYY) from the timestamp (format = YYYYMMHHDD)\n",
    "year = legacy_mobile['timestamp'].str.slice(0, 4)\n",
    "\n",
    "#getting the month (MM) from the timestamp (format = YYYYMMHHDD)\n",
    "month = legacy_mobile['timestamp'].str.slice(4, 6)\n",
    "\n",
    "#removing the timestamp and appending the year and month as columns\n",
    "legacy_mobile = legacy_mobile.drop(['timestamp', 'project', 'granularity', 'access-site'], axis = 1)\n",
    "legacy_mobile = pd.concat([legacy_mobile, year, month], axis = 1)\n",
    "\n",
    "#renaming columns to be more intuitive\n",
    "legacy_mobile.columns = ['views', 'year', 'month']\n",
    "\n",
    "\n",
    "\n",
    "## Time stamp formating for Legacy Desktop\n",
    "#getting the year (YYYY) from the timestamp (format = YYYYMMHHDD)\n",
    "year = legacy_desktop['timestamp'].str.slice(0, 4)\n",
    "\n",
    "#getting the month (MM) from the timestamp (format = YYYYMMHHDD)\n",
    "month = legacy_desktop['timestamp'].str.slice(4, 6)\n",
    "\n",
    "#removing the timestamp and appending the year and month as columns\n",
    "legacy_desktop = legacy_desktop.drop(['timestamp', 'project', 'granularity', 'access-site'], axis = 1)\n",
    "legacy_desktop = pd.concat([legacy_desktop, year, month], axis = 1)\n",
    "\n",
    "#renaming columns to be more intuitive\n",
    "legacy_desktop.columns = ['views', 'year', 'month']\n",
    "\n",
    "\n",
    "\n",
    "## Time stamp formating for Pageviews Mobile\n",
    "#getting the year (YYYY) from the timestamp (format = YYYYMMHHDD)\n",
    "year = pageviews_mobile['timestamp'].str.slice(0, 4)\n",
    "\n",
    "#getting the month (MM) from the timestamp (format = YYYYMMHHDD)\n",
    "month = pageviews_mobile['timestamp'].str.slice(4, 6)\n",
    "\n",
    "#removing the timestamp and appending the year and month as columns\n",
    "pageviews_mobile = pageviews_mobile.drop(['timestamp'], axis = 1)\n",
    "pageviews_mobile = pd.concat([pageviews_mobile, year, month], axis = 1)\n",
    "\n",
    "#renaming columns to be more intuitive\n",
    "pageviews_mobile.columns = ['views', 'year', 'month']\n",
    "\n",
    "\n",
    "\n",
    "## Time stamp formating for Pageviews Desktop\n",
    "#getting the year (YYYY) from the timestamp (format = YYYYMMHHDD)\n",
    "year = pageviews_desktop['timestamp'].str.slice(0, 4)\n",
    "\n",
    "#getting the month (MM) from the timestamp (format = YYYYMMHHDD)\n",
    "month = pageviews_desktop['timestamp'].str.slice(4, 6)\n",
    "\n",
    "#removing the timestamp and appending the year and month as columns\n",
    "pageviews_desktop = pageviews_desktop.drop(['timestamp', 'project', 'granularity', 'access', 'agent'], axis = 1)\n",
    "pageviews_desktop = pd.concat([pageviews_desktop, year, month], axis = 1)\n",
    "\n",
    "#renaming columns to be more intuitive\n",
    "pageviews_desktop.columns = ['views', 'year', 'month']"
   ]
  },
  {
   "cell_type": "code",
   "execution_count": 17,
   "metadata": {},
   "outputs": [],
   "source": [
    "#legacy_mobile.head()"
   ]
  },
  {
   "cell_type": "code",
   "execution_count": 18,
   "metadata": {},
   "outputs": [],
   "source": [
    "#legacy_desktop.head()"
   ]
  },
  {
   "cell_type": "code",
   "execution_count": 19,
   "metadata": {},
   "outputs": [],
   "source": [
    "#pageviews_mobile.head()"
   ]
  },
  {
   "cell_type": "code",
   "execution_count": 20,
   "metadata": {},
   "outputs": [],
   "source": [
    "#pageviews_desktop.head()"
   ]
  },
  {
   "cell_type": "markdown",
   "metadata": {},
   "source": [
    "### Final Data Set\n",
    "For ease of data analysis, all four about files will be combined and stored into a singe CSV file with the following headers (format): year (YYYY), month (MM), pagecount_all_views (int), pagecount_desktop_views (int), pagecount_mobile_views (int), pageview_all_views (int), pageview_desktop_views (int), pageview_mobile_views (int)\n"
   ]
  },
  {
   "cell_type": "code",
   "execution_count": null,
   "metadata": {},
   "outputs": [],
   "source": []
  },
  {
   "cell_type": "markdown",
   "metadata": {},
   "source": [
    "## Data Analysis\n"
   ]
  },
  {
   "cell_type": "code",
   "execution_count": null,
   "metadata": {},
   "outputs": [],
   "source": []
  },
  {
   "cell_type": "code",
   "execution_count": null,
   "metadata": {},
   "outputs": [],
   "source": []
  },
  {
   "cell_type": "markdown",
   "metadata": {},
   "source": [
    "## Sources\n",
    "\n",
    "https://towardsdatascience.com/how-to-parse-json-data-with-python-pandas-f84fbd0b1025 \n",
    "\n",
    "https://www.codegrepper.com/code-examples/python/add+two+dataframes+pandas\n",
    "\n",
    "https://www.codegrepper.com/code-examples/python/parse+string+in+pandas+dataframe"
   ]
  }
 ],
 "metadata": {
  "kernelspec": {
   "display_name": "Python 3",
   "language": "python",
   "name": "python3"
  },
  "language_info": {
   "codemirror_mode": {
    "name": "ipython",
    "version": 3
   },
   "file_extension": ".py",
   "mimetype": "text/x-python",
   "name": "python",
   "nbconvert_exporter": "python",
   "pygments_lexer": "ipython3",
   "version": "3.8.5"
  }
 },
 "nbformat": 4,
 "nbformat_minor": 4
}
