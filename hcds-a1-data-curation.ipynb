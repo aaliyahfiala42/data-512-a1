{
 "cells": [
  {
   "cell_type": "markdown",
   "metadata": {},
   "source": [
    "# A1: Data Curation Assignment\n",
    "### Data 512: Human Centered Data Science\n",
    "\n",
    "#### Aaliyah Hänni\n",
    "#### 10/7/2021"
   ]
  },
  {
   "cell_type": "markdown",
   "metadata": {},
   "source": [
    "## Project Overview\n",
    "The goal of this assignment is to construct, analyze, and publish a dataset of monthly traffic on English Wikipedia from January 1 2008 through August 30 2021. Data about Wikipedia page traffic is accessed from two Wikimedia REST API endpoints and merged into a single dataset, where simple data processing is performed on the data, and then analyzed and visualized."
   ]
  },
  {
   "cell_type": "markdown",
   "metadata": {},
   "source": [
    "## Data Sources\n",
    "In order to measure Wikipedia traffic from 2008-2021, data is collected from two different API endpoints, the Legacy Pagecounts API and the Pageviews API. For each API, data is collected for all months where data is available. The raw results are saved into 5 separate JSON source data files (one file per API query type).\n",
    "\n",
    "### Wikipedia REST API\n",
    "Terms of use: https://www.mediawiki.org/wiki/Wikimedia_REST_API#Terms_and_conditions\n",
    "\n",
    "### Pagecounts API\n",
    "The Legacy Pagecounts API provides access to desktop and mobile traffic data from December 2007 through July 2016.\n",
    "Documentation: https://wikitech.wikimedia.org/wiki/Analytics/AQS/Legacy_Pagecounts\n",
    "\n",
    "### Pageviews API\n",
    "The Pageviews API provides access to desktop, mobile web, and mobile app traffic data from July 2015 through last month.\n",
    "Pageviews API Documentation:https://wikitech.wikimedia.org/wiki/Analytics/AQS/Pageviews"
   ]
  },
  {
   "cell_type": "markdown",
   "metadata": {},
   "source": [
    "## Data Acquisition"
   ]
  },
  {
   "cell_type": "markdown",
   "metadata": {},
   "source": [
    "We begin the data acquisition process by requesting data from the Legacy Pagecoutns and Pageviews APIs. This is done by passing in the necessary parameters (outlined in the API documentation linked above), and calling each API. There are 5 API calls made, two for the Legacy Pagecounts (mobile and desktop) and three for the Pageviews (mobile app, mobile web, and desktop). \n",
    "\n",
    "\n",
    "The results of each API call are then stored in a variable and used to create a corresponding JSON file, with the following filename format: \n",
    "\n",
    "apiname_accesstype_firstmonth-lastmonth.json\n"
   ]
  },
  {
   "cell_type": "code",
   "execution_count": 1,
   "metadata": {},
   "outputs": [],
   "source": [
    "import json\n",
    "import requests"
   ]
  },
  {
   "cell_type": "code",
   "execution_count": 2,
   "metadata": {},
   "outputs": [],
   "source": [
    "endpoint_legacy = 'https://wikimedia.org/api/rest_v1/metrics/legacy/pagecounts/aggregate/{project}/{access-site}/{granularity}/{start}/{end}'\n",
    "\n",
    "endpoint_pageviews = 'https://wikimedia.org/api/rest_v1/metrics/pageviews/aggregate/{project}/{access}/{agent}/{granularity}/{start}/{end}'"
   ]
  },
  {
   "cell_type": "code",
   "execution_count": 3,
   "metadata": {},
   "outputs": [],
   "source": [
    "# Parameters for getting aggregated legacy view data \n",
    "# see: https://wikimedia.org/api/rest_v1/#!/Legacy_data/get_metrics_legacy_pagecounts_aggregate_project_access_site_granularity_start_end\n",
    "params_legacy_mobile = {\"project\" : \"en.wikipedia.org\",\n",
    "                 \"access-site\" : \"mobile-site\",\n",
    "                 \"granularity\" : \"monthly\",\n",
    "                 \"start\" : \"2008010100\",\n",
    "                # for end use 1st day of month following final month of data\n",
    "                 \"end\" : \"2016080100\"\n",
    "                    }\n",
    "\n",
    "params_legacy_desktop = {\"project\" : \"en.wikipedia.org\",\n",
    "                 \"access-site\" : \"desktop-site\",\n",
    "                 \"granularity\" : \"monthly\",\n",
    "                 \"start\" : \"2008010100\",\n",
    "                # for end use 1st day of month following final month of data\n",
    "                 \"end\" : \"2016080100\"\n",
    "                    }\n",
    "\n",
    "# Parameters for getting aggregated current standard pageview data\n",
    "# see: https://wikimedia.org/api/rest_v1/#!/Pageviews_data/get_metrics_pageviews_aggregate_project_access_agent_granularity_start_end\n",
    "params_pageviews_mobile_app = {\"project\" : \"en.wikipedia.org\",\n",
    "                    \"access\" : \"mobile-app\",\n",
    "                    \"agent\" : \"user\",\n",
    "                    \"granularity\" : \"monthly\",\n",
    "                    \"start\" : \"2015070100\",\n",
    "                    # for end use 1st day of month following final month of data\n",
    "                    \"end\" : '2021090100'\n",
    "                        }\n",
    "params_pageviews_mobile_web = {\"project\" : \"en.wikipedia.org\",\n",
    "                    \"access\" : \"mobile-web\",\n",
    "                    \"agent\" : \"user\",\n",
    "                    \"granularity\" : \"monthly\",\n",
    "                    \"start\" : \"2015070100\",\n",
    "                    # for end use 1st day of month following final month of data\n",
    "                    \"end\" : '2021090100'\n",
    "                        }\n",
    "params_pageviews_desktop = {\"project\" : \"en.wikipedia.org\",\n",
    "                    \"access\" : \"desktop\",\n",
    "                    \"agent\" : \"user\",\n",
    "                    \"granularity\" : \"monthly\",\n",
    "                    \"start\" : \"2015070100\",\n",
    "                    # for end use 1st day of month following final month of data\n",
    "                    \"end\" : '2021090100'\n",
    "                        }\n",
    "\n",
    "# Customize these with your own information\n",
    "headers = {\n",
    "    'User-Agent': 'https://github.com/aaliyahfiala42',\n",
    "    'From': 'fialaa@uw.edu'\n",
    "}"
   ]
  },
  {
   "cell_type": "code",
   "execution_count": 4,
   "metadata": {},
   "outputs": [],
   "source": [
    "def api_call(endpoint,parameters):\n",
    "    call = requests.get(endpoint.format(**parameters), headers=headers)\n",
    "    response = call.json()\n",
    "    \n",
    "    return response"
   ]
  },
  {
   "cell_type": "code",
   "execution_count": 5,
   "metadata": {},
   "outputs": [],
   "source": [
    "#Get monthly pages views for mobile from Legacy API\n",
    "monthly_legacy_mobile = api_call(endpoint_legacy, params_legacy_mobile)\n",
    "\n",
    "#Get monthly pages views for desktop from Legacy API\n",
    "monthly_legacy_desktop = api_call(endpoint_legacy, params_legacy_desktop)"
   ]
  },
  {
   "cell_type": "code",
   "execution_count": 6,
   "metadata": {},
   "outputs": [],
   "source": [
    "#print(monthly_legacy_mobile)\n",
    "#print(monthly_legacy_desktop)"
   ]
  },
  {
   "cell_type": "code",
   "execution_count": 7,
   "metadata": {},
   "outputs": [],
   "source": [
    "#Get monthly pages views for mobile apps from Pageviews API\n",
    "monthly_pageviews_mobile_app = api_call(endpoint_pageviews, params_pageviews_mobile_app)\n",
    "\n",
    "#Get monthly pages views for mobile web from Pageviews API\n",
    "monthly_pageviews_mobile_web = api_call(endpoint_pageviews, params_pageviews_mobile_web)\n",
    "\n",
    "#Get monthly pages views for desktop from Pageviews API\n",
    "monthly_pageviews_desktop = api_call(endpoint_pageviews, params_pageviews_desktop)\n"
   ]
  },
  {
   "cell_type": "code",
   "execution_count": 8,
   "metadata": {},
   "outputs": [],
   "source": [
    "#print(monthly_pageviews_mobile_app)\n",
    "#print(monthly_pageviews_mobile_web)\n",
    "#print(monthly_pageviews_desktop)"
   ]
  },
  {
   "cell_type": "code",
   "execution_count": 9,
   "metadata": {},
   "outputs": [],
   "source": [
    "#Saving data from APIs to JSON files in the format apiname_accesstype_firstmonth-lastmonth.json\n",
    "\n",
    "with open('legacy_mobile-site_200801-201607.json', 'w') as outfile:\n",
    "    json.dump(monthly_legacy_mobile, outfile)\n",
    "    \n",
    "with open('legacy_desktop-site_200801-201607.json', 'w') as outfile:\n",
    "    json.dump(monthly_legacy_desktop, outfile)\n",
    "\n",
    "with open('pageviews_mobile-app_201507-202108.json', 'w') as outfile:\n",
    "    json.dump(monthly_pageviews_mobile_app, outfile)\n",
    "\n",
    "with open('pageviews_mobile-web_201507-202108.json', 'w') as outfile:\n",
    "    json.dump(monthly_pageviews_mobile_web, outfile)\n",
    "    \n",
    "with open('pageviews_desktop_201507-202108.json', 'w') as outfile:\n",
    "    json.dump(monthly_legacy_desktop, outfile)"
   ]
  },
  {
   "cell_type": "markdown",
   "metadata": {},
   "source": [
    "## Data Processing\n"
   ]
  },
  {
   "cell_type": "markdown",
   "metadata": {},
   "source": [
    "First we start by exporting each JSON file dataset and then formatting them to be stored as pandas dataframes. We convert the data into Python Dataframes using the Pandas library to allow for ease of processing and manipulation.\n",
    "\n",
    "Next we combine the mobile web and mobile app tables from the Pageviews API to get a combined mobile view count. After that we extract the Year and Month from the datetime variable that the APIs returned (i.e ditching the days and hours). Lastly, all of the dataframes are combined to create a single dataframe and exported into a csv document labeled en-wikipedia_traffic_200712-202108.csv."
   ]
  },
  {
   "cell_type": "code",
   "execution_count": 10,
   "metadata": {},
   "outputs": [],
   "source": [
    "import pandas as pd"
   ]
  },
  {
   "cell_type": "code",
   "execution_count": 11,
   "metadata": {},
   "outputs": [
    {
     "data": {
      "text/html": [
       "<div>\n",
       "<style scoped>\n",
       "    .dataframe tbody tr th:only-of-type {\n",
       "        vertical-align: middle;\n",
       "    }\n",
       "\n",
       "    .dataframe tbody tr th {\n",
       "        vertical-align: top;\n",
       "    }\n",
       "\n",
       "    .dataframe thead th {\n",
       "        text-align: right;\n",
       "    }\n",
       "</style>\n",
       "<table border=\"1\" class=\"dataframe\">\n",
       "  <thead>\n",
       "    <tr style=\"text-align: right;\">\n",
       "      <th></th>\n",
       "      <th>project</th>\n",
       "      <th>access</th>\n",
       "      <th>agent</th>\n",
       "      <th>granularity</th>\n",
       "      <th>timestamp</th>\n",
       "      <th>views</th>\n",
       "    </tr>\n",
       "  </thead>\n",
       "  <tbody>\n",
       "    <tr>\n",
       "      <th>0</th>\n",
       "      <td>en.wikipedia</td>\n",
       "      <td>mobile-web</td>\n",
       "      <td>user</td>\n",
       "      <td>monthly</td>\n",
       "      <td>2015070100</td>\n",
       "      <td>3179131148</td>\n",
       "    </tr>\n",
       "    <tr>\n",
       "      <th>1</th>\n",
       "      <td>en.wikipedia</td>\n",
       "      <td>mobile-web</td>\n",
       "      <td>user</td>\n",
       "      <td>monthly</td>\n",
       "      <td>2015080100</td>\n",
       "      <td>3192663889</td>\n",
       "    </tr>\n",
       "    <tr>\n",
       "      <th>2</th>\n",
       "      <td>en.wikipedia</td>\n",
       "      <td>mobile-web</td>\n",
       "      <td>user</td>\n",
       "      <td>monthly</td>\n",
       "      <td>2015090100</td>\n",
       "      <td>3073981649</td>\n",
       "    </tr>\n",
       "    <tr>\n",
       "      <th>3</th>\n",
       "      <td>en.wikipedia</td>\n",
       "      <td>mobile-web</td>\n",
       "      <td>user</td>\n",
       "      <td>monthly</td>\n",
       "      <td>2015100100</td>\n",
       "      <td>3173975355</td>\n",
       "    </tr>\n",
       "    <tr>\n",
       "      <th>4</th>\n",
       "      <td>en.wikipedia</td>\n",
       "      <td>mobile-web</td>\n",
       "      <td>user</td>\n",
       "      <td>monthly</td>\n",
       "      <td>2015110100</td>\n",
       "      <td>3142247145</td>\n",
       "    </tr>\n",
       "  </tbody>\n",
       "</table>\n",
       "</div>"
      ],
      "text/plain": [
       "        project      access agent granularity   timestamp       views\n",
       "0  en.wikipedia  mobile-web  user     monthly  2015070100  3179131148\n",
       "1  en.wikipedia  mobile-web  user     monthly  2015080100  3192663889\n",
       "2  en.wikipedia  mobile-web  user     monthly  2015090100  3073981649\n",
       "3  en.wikipedia  mobile-web  user     monthly  2015100100  3173975355\n",
       "4  en.wikipedia  mobile-web  user     monthly  2015110100  3142247145"
      ]
     },
     "execution_count": 11,
     "metadata": {},
     "output_type": "execute_result"
    }
   ],
   "source": [
    "#reading in the Legacy Mobile JSON file\n",
    "with open('legacy_mobile-site_200801-201607.json', 'r') as f:\n",
    "    legacy_mobile = json.loads(f.read())\n",
    "    \n",
    "#flattening JSON to format into columns correctly\n",
    "legacy_mobile = pd.json_normalize(legacy_mobile, record_path = ['items'])\n",
    "\n",
    "#preview data to check that it all read in correctly\n",
    "#legacy_mobile.head()\n",
    "\n",
    "\n",
    "\n",
    "#reading in the Legacy Desktop JSON file\n",
    "with open('legacy_desktop-site_200801-201607.json', 'r') as f:\n",
    "    legacy_desktop = json.loads(f.read())\n",
    "    \n",
    "#flattening JSON to format into columns correctly\n",
    "legacy_desktop = pd.json_normalize(legacy_desktop, record_path = ['items'])\n",
    "\n",
    "#preview data to check that it all read in correctly\n",
    "#legacy_desktop.head()\n",
    "\n",
    "\n",
    "\n",
    "#reading in the Pageviews Mobile App JSON file\n",
    "with open('pageviews_mobile-app_201507-202108.json', 'r') as f:\n",
    "    pageviews_mobile_app = json.loads(f.read())\n",
    "    \n",
    "#flattening JSON to format into columns correctly\n",
    "pageviews_mobile_app = pd.json_normalize(pageviews_mobile_app, record_path = ['items'])\n",
    "\n",
    "#preview data to check that it all read in correctly\n",
    "#pageviews_mobile_app.head()\n",
    "\n",
    "\n",
    "\n",
    "#reading in the Pageviews Mobile Web JSON file\n",
    "with open('pageviews_mobile-web_201507-202108.json', 'r') as f:\n",
    "    pageviews_mobile_web = json.loads(f.read())\n",
    "    \n",
    "#flattening JSON to format into columns correctly\n",
    "pageviews_mobile_web = pd.json_normalize(pageviews_mobile_web, record_path = ['items'])\n",
    "\n",
    "#preview data to check that it all read in correctly\n",
    "#pageviews_mobile_web.head()\n",
    "\n",
    "\n",
    "\n",
    "#reading in the Pageviews Desktop JSON file\n",
    "with open('pageviews_mobile-web_201507-202108.json', 'r') as f:\n",
    "    pageviews_desktop = json.loads(f.read())\n",
    "    \n",
    "#flattening JSON to format into columns correctly\n",
    "pageviews_desktop = pd.json_normalize(pageviews_desktop, record_path = ['items'])\n",
    "\n",
    "#preview data to check that it all read in correctly\n",
    "pageviews_desktop.head()"
   ]
  },
  {
   "cell_type": "markdown",
   "metadata": {},
   "source": [
    "#### Combing Mobile Web and Mobile App\n",
    "In the steps below, the monthly values for mobile-app and mobile-web from the PageViews API will be combined to obtain the total monthly mobile traffic count for each month. "
   ]
  },
  {
   "cell_type": "code",
   "execution_count": 12,
   "metadata": {},
   "outputs": [],
   "source": [
    "#replace all null count months with zeroes\n",
    "pageviews_mobile_web['views'] = pageviews_mobile_web['views'].fillna(0)\n",
    "pageviews_mobile_app['views'] = pageviews_mobile_app['views'].fillna(0)\n",
    "pageviews_desktop['views'] = pageviews_desktop['views'].fillna(0)\n",
    "\n",
    "legacy_mobile['count'] = legacy_mobile['count'].fillna(0)\n",
    "legacy_desktop['count'] = legacy_desktop['count'].fillna(0)\n"
   ]
  },
  {
   "cell_type": "code",
   "execution_count": 13,
   "metadata": {},
   "outputs": [],
   "source": [
    "#removing the following fields as they are not needed for further analysis: agent, granularity, project, and access\n",
    "pageviews_mobile_web = pageviews_mobile_web.drop(['agent', 'granularity', 'project', 'access'], axis = 1)\n",
    "pageviews_mobile_app = pageviews_mobile_app.drop(['agent', 'granularity', 'project', 'access'], axis = 1)"
   ]
  },
  {
   "cell_type": "code",
   "execution_count": 14,
   "metadata": {},
   "outputs": [],
   "source": [
    "#merging Pageview Mobile Web and App dataframes \n",
    "pageviews_mobile = pd.merge(pageviews_mobile_web, pageviews_mobile_app, on='timestamp')\n",
    "\n",
    "#creating a new field that is the sum of all mobile views\n",
    "pageviews_mobile_sum = pageviews_mobile['views_x'] + pageviews_mobile['views_y']\n",
    "\n",
    "#adding the new field back into the dataframe\n",
    "pageviews_mobile = pd.concat([pageviews_mobile, pageviews_mobile_sum], axis = 1, names = ['views'])\n",
    "\n",
    "#removing the individual web and app views\n",
    "pageviews_mobile = pageviews_mobile.drop(['views_x', 'views_y'], axis = 1)\n",
    "\n",
    "#relabing the summed column to views for clarity\n",
    "#pageviews_mobile = pageviews_mobile.rename({'0' : 'views'}, axis = 1)"
   ]
  },
  {
   "cell_type": "code",
   "execution_count": 15,
   "metadata": {},
   "outputs": [],
   "source": [
    "#pageviews_mobile"
   ]
  },
  {
   "cell_type": "markdown",
   "metadata": {},
   "source": [
    "#### Time Formating\n",
    "PageViews API returned the date in the format YYYYMMDDHH, and since we are only exploring the total views by month, we can extract the unnecesary days and hours from each row. We also seperate month and year to allow for better formating later on. All date timestamp variables modified to segregate the month (MM) and year (YYYY), discarding days and hours."
   ]
  },
  {
   "cell_type": "code",
   "execution_count": 16,
   "metadata": {},
   "outputs": [],
   "source": [
    "## Time stamp formating for Legacy Mobile\n",
    "#getting the year (YYYY) from the timestamp (format = YYYYMMHHDD)\n",
    "year = legacy_mobile['timestamp'].str.slice(0, 4)\n",
    "\n",
    "#getting the month (MM) from the timestamp (format = YYYYMMHHDD)\n",
    "month = legacy_mobile['timestamp'].str.slice(4, 6)\n",
    "\n",
    "#removing the timestamp and appending the year and month as columns\n",
    "legacy_mobile = legacy_mobile.drop(['timestamp', 'project', 'granularity', 'access-site'], axis = 1)\n",
    "legacy_mobile = pd.concat([legacy_mobile, year, month], axis = 1)\n",
    "\n",
    "#renaming columns to be more intuitive\n",
    "legacy_mobile.columns = ['views', 'year', 'month']\n",
    "\n",
    "\n",
    "\n",
    "## Time stamp formating for Legacy Desktop\n",
    "#getting the year (YYYY) from the timestamp (format = YYYYMMHHDD)\n",
    "year = legacy_desktop['timestamp'].str.slice(0, 4)\n",
    "\n",
    "#getting the month (MM) from the timestamp (format = YYYYMMHHDD)\n",
    "month = legacy_desktop['timestamp'].str.slice(4, 6)\n",
    "\n",
    "#removing the timestamp and appending the year and month as columns\n",
    "legacy_desktop = legacy_desktop.drop(['timestamp', 'project', 'granularity', 'access-site'], axis = 1)\n",
    "legacy_desktop = pd.concat([legacy_desktop, year, month], axis = 1)\n",
    "\n",
    "#renaming columns to be more intuitive\n",
    "legacy_desktop.columns = ['views', 'year', 'month']\n",
    "\n",
    "\n",
    "\n",
    "## Time stamp formating for Pageviews Mobile\n",
    "#getting the year (YYYY) from the timestamp (format = YYYYMMHHDD)\n",
    "year = pageviews_mobile['timestamp'].str.slice(0, 4)\n",
    "\n",
    "#getting the month (MM) from the timestamp (format = YYYYMMHHDD)\n",
    "month = pageviews_mobile['timestamp'].str.slice(4, 6)\n",
    "\n",
    "#removing the timestamp and appending the year and month as columns\n",
    "pageviews_mobile = pageviews_mobile.drop(['timestamp'], axis = 1)\n",
    "pageviews_mobile = pd.concat([pageviews_mobile, year, month], axis = 1)\n",
    "\n",
    "#renaming columns to be more intuitive\n",
    "pageviews_mobile.columns = ['views', 'year', 'month']\n",
    "\n",
    "\n",
    "\n",
    "## Time stamp formating for Pageviews Desktop\n",
    "#getting the year (YYYY) from the timestamp (format = YYYYMMHHDD)\n",
    "year = pageviews_desktop['timestamp'].str.slice(0, 4)\n",
    "\n",
    "#getting the month (MM) from the timestamp (format = YYYYMMHHDD)\n",
    "month = pageviews_desktop['timestamp'].str.slice(4, 6)\n",
    "\n",
    "#removing the timestamp and appending the year and month as columns\n",
    "pageviews_desktop = pageviews_desktop.drop(['timestamp', 'project', 'granularity', 'access', 'agent'], axis = 1)\n",
    "pageviews_desktop = pd.concat([pageviews_desktop, year, month], axis = 1)\n",
    "\n",
    "#renaming columns to be more intuitive\n",
    "pageviews_desktop.columns = ['views', 'year', 'month']"
   ]
  },
  {
   "cell_type": "code",
   "execution_count": 17,
   "metadata": {},
   "outputs": [],
   "source": [
    "#legacy_mobile.head()"
   ]
  },
  {
   "cell_type": "code",
   "execution_count": 18,
   "metadata": {},
   "outputs": [],
   "source": [
    "#legacy_desktop.head()"
   ]
  },
  {
   "cell_type": "code",
   "execution_count": 19,
   "metadata": {},
   "outputs": [],
   "source": [
    "#pageviews_mobile.head()"
   ]
  },
  {
   "cell_type": "code",
   "execution_count": 20,
   "metadata": {},
   "outputs": [],
   "source": [
    "#pageviews_desktop.head()"
   ]
  },
  {
   "cell_type": "markdown",
   "metadata": {},
   "source": [
    "#### Final Data Set\n",
    "For ease of data analysis, all four about files will be combined and stored into a singe CSV file with the following headers (format): year (YYYY), month (MM), pagecount_all_views (int), pagecount_desktop_views (int), pagecount_mobile_views (int), pageview_all_views (int), pageview_desktop_views (int), pageview_mobile_views (int).\n",
    "\n"
   ]
  },
  {
   "cell_type": "code",
   "execution_count": 21,
   "metadata": {},
   "outputs": [
    {
     "data": {
      "text/html": [
       "<div>\n",
       "<style scoped>\n",
       "    .dataframe tbody tr th:only-of-type {\n",
       "        vertical-align: middle;\n",
       "    }\n",
       "\n",
       "    .dataframe tbody tr th {\n",
       "        vertical-align: top;\n",
       "    }\n",
       "\n",
       "    .dataframe thead th {\n",
       "        text-align: right;\n",
       "    }\n",
       "</style>\n",
       "<table border=\"1\" class=\"dataframe\">\n",
       "  <thead>\n",
       "    <tr style=\"text-align: right;\">\n",
       "      <th></th>\n",
       "      <th>views</th>\n",
       "      <th>year</th>\n",
       "      <th>month</th>\n",
       "      <th>views</th>\n",
       "      <th>year</th>\n",
       "      <th>month</th>\n",
       "      <th>views</th>\n",
       "      <th>year</th>\n",
       "      <th>month</th>\n",
       "      <th>views</th>\n",
       "      <th>year</th>\n",
       "      <th>month</th>\n",
       "    </tr>\n",
       "  </thead>\n",
       "  <tbody>\n",
       "    <tr>\n",
       "      <th>0</th>\n",
       "      <td>3.091547e+09</td>\n",
       "      <td>2014</td>\n",
       "      <td>10</td>\n",
       "      <td>4930902570</td>\n",
       "      <td>2008</td>\n",
       "      <td>01</td>\n",
       "      <td>3.288755e+09</td>\n",
       "      <td>2015</td>\n",
       "      <td>07</td>\n",
       "      <td>3.179131e+09</td>\n",
       "      <td>2015</td>\n",
       "      <td>07</td>\n",
       "    </tr>\n",
       "    <tr>\n",
       "      <th>1</th>\n",
       "      <td>3.027490e+09</td>\n",
       "      <td>2014</td>\n",
       "      <td>11</td>\n",
       "      <td>4818393763</td>\n",
       "      <td>2008</td>\n",
       "      <td>02</td>\n",
       "      <td>3.302333e+09</td>\n",
       "      <td>2015</td>\n",
       "      <td>08</td>\n",
       "      <td>3.192664e+09</td>\n",
       "      <td>2015</td>\n",
       "      <td>08</td>\n",
       "    </tr>\n",
       "    <tr>\n",
       "      <th>2</th>\n",
       "      <td>3.278950e+09</td>\n",
       "      <td>2014</td>\n",
       "      <td>12</td>\n",
       "      <td>4955405809</td>\n",
       "      <td>2008</td>\n",
       "      <td>03</td>\n",
       "      <td>3.170203e+09</td>\n",
       "      <td>2015</td>\n",
       "      <td>09</td>\n",
       "      <td>3.073982e+09</td>\n",
       "      <td>2015</td>\n",
       "      <td>09</td>\n",
       "    </tr>\n",
       "    <tr>\n",
       "      <th>3</th>\n",
       "      <td>3.485302e+09</td>\n",
       "      <td>2015</td>\n",
       "      <td>01</td>\n",
       "      <td>5159162183</td>\n",
       "      <td>2008</td>\n",
       "      <td>04</td>\n",
       "      <td>3.268499e+09</td>\n",
       "      <td>2015</td>\n",
       "      <td>10</td>\n",
       "      <td>3.173975e+09</td>\n",
       "      <td>2015</td>\n",
       "      <td>10</td>\n",
       "    </tr>\n",
       "    <tr>\n",
       "      <th>4</th>\n",
       "      <td>3.091534e+09</td>\n",
       "      <td>2015</td>\n",
       "      <td>02</td>\n",
       "      <td>5584691092</td>\n",
       "      <td>2008</td>\n",
       "      <td>05</td>\n",
       "      <td>3.236601e+09</td>\n",
       "      <td>2015</td>\n",
       "      <td>11</td>\n",
       "      <td>3.142247e+09</td>\n",
       "      <td>2015</td>\n",
       "      <td>11</td>\n",
       "    </tr>\n",
       "    <tr>\n",
       "      <th>...</th>\n",
       "      <td>...</td>\n",
       "      <td>...</td>\n",
       "      <td>...</td>\n",
       "      <td>...</td>\n",
       "      <td>...</td>\n",
       "      <td>...</td>\n",
       "      <td>...</td>\n",
       "      <td>...</td>\n",
       "      <td>...</td>\n",
       "      <td>...</td>\n",
       "      <td>...</td>\n",
       "      <td>...</td>\n",
       "    </tr>\n",
       "    <tr>\n",
       "      <th>98</th>\n",
       "      <td>NaN</td>\n",
       "      <td>NaN</td>\n",
       "      <td>NaN</td>\n",
       "      <td>5407676056</td>\n",
       "      <td>2016</td>\n",
       "      <td>03</td>\n",
       "      <td>NaN</td>\n",
       "      <td>NaN</td>\n",
       "      <td>NaN</td>\n",
       "      <td>NaN</td>\n",
       "      <td>NaN</td>\n",
       "      <td>NaN</td>\n",
       "    </tr>\n",
       "    <tr>\n",
       "      <th>99</th>\n",
       "      <td>NaN</td>\n",
       "      <td>NaN</td>\n",
       "      <td>NaN</td>\n",
       "      <td>5572235399</td>\n",
       "      <td>2016</td>\n",
       "      <td>04</td>\n",
       "      <td>NaN</td>\n",
       "      <td>NaN</td>\n",
       "      <td>NaN</td>\n",
       "      <td>NaN</td>\n",
       "      <td>NaN</td>\n",
       "      <td>NaN</td>\n",
       "    </tr>\n",
       "    <tr>\n",
       "      <th>100</th>\n",
       "      <td>NaN</td>\n",
       "      <td>NaN</td>\n",
       "      <td>NaN</td>\n",
       "      <td>5330532334</td>\n",
       "      <td>2016</td>\n",
       "      <td>05</td>\n",
       "      <td>NaN</td>\n",
       "      <td>NaN</td>\n",
       "      <td>NaN</td>\n",
       "      <td>NaN</td>\n",
       "      <td>NaN</td>\n",
       "      <td>NaN</td>\n",
       "    </tr>\n",
       "    <tr>\n",
       "      <th>101</th>\n",
       "      <td>NaN</td>\n",
       "      <td>NaN</td>\n",
       "      <td>NaN</td>\n",
       "      <td>4975092447</td>\n",
       "      <td>2016</td>\n",
       "      <td>06</td>\n",
       "      <td>NaN</td>\n",
       "      <td>NaN</td>\n",
       "      <td>NaN</td>\n",
       "      <td>NaN</td>\n",
       "      <td>NaN</td>\n",
       "      <td>NaN</td>\n",
       "    </tr>\n",
       "    <tr>\n",
       "      <th>102</th>\n",
       "      <td>NaN</td>\n",
       "      <td>NaN</td>\n",
       "      <td>NaN</td>\n",
       "      <td>5363966439</td>\n",
       "      <td>2016</td>\n",
       "      <td>07</td>\n",
       "      <td>NaN</td>\n",
       "      <td>NaN</td>\n",
       "      <td>NaN</td>\n",
       "      <td>NaN</td>\n",
       "      <td>NaN</td>\n",
       "      <td>NaN</td>\n",
       "    </tr>\n",
       "  </tbody>\n",
       "</table>\n",
       "<p>103 rows × 12 columns</p>\n",
       "</div>"
      ],
      "text/plain": [
       "            views  year month       views  year month         views  year  \\\n",
       "0    3.091547e+09  2014    10  4930902570  2008    01  3.288755e+09  2015   \n",
       "1    3.027490e+09  2014    11  4818393763  2008    02  3.302333e+09  2015   \n",
       "2    3.278950e+09  2014    12  4955405809  2008    03  3.170203e+09  2015   \n",
       "3    3.485302e+09  2015    01  5159162183  2008    04  3.268499e+09  2015   \n",
       "4    3.091534e+09  2015    02  5584691092  2008    05  3.236601e+09  2015   \n",
       "..            ...   ...   ...         ...   ...   ...           ...   ...   \n",
       "98            NaN   NaN   NaN  5407676056  2016    03           NaN   NaN   \n",
       "99            NaN   NaN   NaN  5572235399  2016    04           NaN   NaN   \n",
       "100           NaN   NaN   NaN  5330532334  2016    05           NaN   NaN   \n",
       "101           NaN   NaN   NaN  4975092447  2016    06           NaN   NaN   \n",
       "102           NaN   NaN   NaN  5363966439  2016    07           NaN   NaN   \n",
       "\n",
       "    month         views  year month  \n",
       "0      07  3.179131e+09  2015    07  \n",
       "1      08  3.192664e+09  2015    08  \n",
       "2      09  3.073982e+09  2015    09  \n",
       "3      10  3.173975e+09  2015    10  \n",
       "4      11  3.142247e+09  2015    11  \n",
       "..    ...           ...   ...   ...  \n",
       "98    NaN           NaN   NaN   NaN  \n",
       "99    NaN           NaN   NaN   NaN  \n",
       "100   NaN           NaN   NaN   NaN  \n",
       "101   NaN           NaN   NaN   NaN  \n",
       "102   NaN           NaN   NaN   NaN  \n",
       "\n",
       "[103 rows x 12 columns]"
      ]
     },
     "execution_count": 21,
     "metadata": {},
     "output_type": "execute_result"
    }
   ],
   "source": [
    "#merging all documents into one\n",
    "pd.concat([legacy_mobile, legacy_desktop, pageviews_mobile, pageviews_desktop], axis = 1)"
   ]
  },
  {
   "cell_type": "code",
   "execution_count": 22,
   "metadata": {},
   "outputs": [],
   "source": [
    "#merge together legacy mobile & desktop data \n",
    "legacy_merged = pd.merge(legacy_desktop, legacy_mobile, how = 'outer', left_on = ['year', 'month'], right_on = ['year', 'month'])\n",
    "\n",
    "#replace nulls with 0\n",
    "legacy_merged['views_x'] = legacy_merged['views_x'].fillna(0)\n",
    "legacy_merged['views_y'] = legacy_merged['views_y'].fillna(0)\n",
    "\n",
    "\n",
    "#create total field for Legacy all (mobile & desktop)\n",
    "legacy_total = legacy_merged['views_x'] + legacy_merged['views_y']\n",
    "\n",
    "#add new field to complete legacy data\n",
    "legacy_merged = pd.concat([legacy_merged, legacy_total], axis = 1)\n",
    "\n",
    "#rename columns\n",
    "legacy_merged.columns = ['pagecount_desktop_views', 'year', 'month', 'pagecount_mobile_views', 'pagecount_all_views']"
   ]
  },
  {
   "cell_type": "code",
   "execution_count": 23,
   "metadata": {},
   "outputs": [],
   "source": [
    "#merge together legacy mobile & desktop data \n",
    "pageviews_merged = pd.merge(pageviews_desktop, pageviews_mobile, how = 'outer', left_on = ['year', 'month'], right_on = ['year', 'month'])\n",
    "\n",
    "#replace nulls with 0\n",
    "pageviews_merged['views_x'] = pageviews_merged['views_x'].fillna(0)\n",
    "pageviews_merged['views_y'] = pageviews_merged['views_y'].fillna(0)\n",
    "\n",
    "\n",
    "#create total field for Legacy all (mobile & desktop)\n",
    "pageviews_total = pageviews_merged['views_x'] + pageviews_merged['views_y']\n",
    "\n",
    "#add new field to complete legacy data\n",
    "pageviews_merged = pd.concat([pageviews_merged, pageviews_total], axis = 1)\n",
    "\n",
    "#rename columns\n",
    "pageviews_merged.columns = ['pageview_desktop_views', 'year', 'month', 'pageview_mobile_views', 'pageview_all_views']"
   ]
  },
  {
   "cell_type": "code",
   "execution_count": 24,
   "metadata": {},
   "outputs": [],
   "source": [
    "#pageviews_merged"
   ]
  },
  {
   "cell_type": "code",
   "execution_count": 25,
   "metadata": {},
   "outputs": [],
   "source": [
    "#merging pageviews and pagecounts to get a single dataframe\n",
    "all_wiki_views = pd.merge(pageviews_merged, legacy_merged, how = 'outer', left_on = ['year', 'month'], right_on = ['year', 'month'])\n",
    "#all_wiki_views"
   ]
  },
  {
   "cell_type": "code",
   "execution_count": 26,
   "metadata": {},
   "outputs": [],
   "source": [
    "#replacing all nulls with 0's\n",
    "#all_wiki_views = all_wiki_views.fillna(0)\n"
   ]
  },
  {
   "cell_type": "code",
   "execution_count": 27,
   "metadata": {},
   "outputs": [],
   "source": [
    "#creating a excel file of the final data set: 'en-wikipedia_traffic_200712-202108.csv'\n",
    "all_wiki_views.to_csv('en-wikipedia_traffic_200712-202108.csv')\n"
   ]
  },
  {
   "cell_type": "markdown",
   "metadata": {},
   "source": [
    "## Data Analysis\n"
   ]
  },
  {
   "cell_type": "markdown",
   "metadata": {},
   "source": [
    "The goal of the analysis performed below is to create a visulization that quickly summarizes the number of views that Wikipedia recieves every month for the following metrics: mobile traffic, desktop traffic, and all traffic (mobile + desktop). \n",
    "\n",
    "The final visulization plots the total number of Wikipedia views by month and contains data from the both the Legacy Pagecounts and Pagviews APIs. All views are shown in blue, desktop views are shown in green, and mobile views are shown in orange. The Legacy Pagecount API is displayed in a lighter shade, to distinguish data from the 2 APIs, to allow for easy comparison. \n",
    "\n",
    "Note that there is some overlap between data visualized for the two APIs during the period of July 2015 - July 2016. The number of views between these overlapping dates are not equal and vary quite a bit, especially when looking at desktop views. One way to possible account for this discrepancy is that the data from the Pageview API excludes spiders/crawlers, while data from the Pagecounts API does not.\n"
   ]
  },
  {
   "cell_type": "code",
   "execution_count": 28,
   "metadata": {},
   "outputs": [],
   "source": [
    "import matplotlib.pyplot as plt"
   ]
  },
  {
   "cell_type": "code",
   "execution_count": 29,
   "metadata": {},
   "outputs": [],
   "source": [
    "#combining month and year for plot\n",
    "all_wiki_views['date'] = all_wiki_views['month'].map(str)+ '-' + all_wiki_views['year'].map(str)\n",
    "all_wiki_views['date'] = pd.to_datetime(all_wiki_views['date'], format='%m-%Y').dt.strftime('%m-%Y')"
   ]
  },
  {
   "cell_type": "code",
   "execution_count": 30,
   "metadata": {},
   "outputs": [],
   "source": [
    "#sorting views by dates for visualization\n",
    "all_wiki_views = all_wiki_views.sort_values(by = ['year', 'month'])"
   ]
  },
  {
   "cell_type": "code",
   "execution_count": 35,
   "metadata": {},
   "outputs": [
    {
     "data": {
      "image/png": "[encoded data removed]",
      "text/plain": [
       "<Figure size 1008x720 with 1 Axes>"
      ]
     },
     "metadata": {
      "needs_background": "light"
     },
     "output_type": "display_data"
    }
   ],
   "source": [
    "#creating visualization\n",
    "plt.figure(figsize=(14, 10))\n",
    "\n",
    "#change font sizes for better visibility\n",
    "plt.rc('font', size=12)         \n",
    "plt.rc('axes', titlesize=12)    \n",
    "plt.rc('axes', labelsize=12)\n",
    "plt.rc('xtick', labelsize=8)  \n",
    "plt.rc('ytick', labelsize=8)\n",
    "plt.rc('legend', fontsize=12) \n",
    "plt.rc('figure', titlesize=18) \n",
    "\n",
    "#plot each line\n",
    "plt.plot(all_wiki_views['date'], all_wiki_views['pageview_all_views'], label = 'Pageview All (Mobile + Desktop) Traffic', linestyle = 'solid', color = 'darkblue')\n",
    "plt.plot(all_wiki_views['date'], all_wiki_views['pagecount_all_views'], label = 'Pagecount All (Mobile + Desktop) Traffic', linestyle = 'solid', color = 'blue')\n",
    "\n",
    "plt.plot(all_wiki_views['date'], all_wiki_views['pageview_desktop_views'], label = 'Pageview Desktop Traffic', linestyle = 'solid', color = 'green')\n",
    "plt.plot(all_wiki_views['date'], all_wiki_views['pagecount_desktop_views'], label = 'Pagecount Desktop Traffic', linestyle = 'solid', color = 'greenyellow')\n",
    "\n",
    "plt.plot(all_wiki_views['date'], all_wiki_views['pageview_mobile_views'], label = 'Pageview Mobile Traffic', linestyle = 'solid', color = 'darkorange')\n",
    "plt.plot(all_wiki_views['date'], all_wiki_views['pagecount_mobile_views'], label = 'Pagecount Mobile Traffic', linestyle = 'solid', color = 'orange')\n",
    "\n",
    "#give everything a label\n",
    "plt.legend()\n",
    "plt.suptitle('Monthly Wikipedia Traffic 2008-2021')\n",
    "plt.title('Pagecount API used 12/2007 - 07/2016, Pageview API used 07/2015 - 08/2021')\n",
    "plt.ylabel('Wikipedia Views')\n",
    "plt.xlabel('Month - Year')\n",
    "\n",
    "#format axises for better legibilty\n",
    "plt.ticklabel_format(axis = 'y', style = 'plain') #remove scientific notation\n",
    "plt.xticks(all_wiki_views['date'][::2],  rotation= 90) # rotate and display every other month label\n",
    "plt.margins(0.01) #add margins\n",
    "\n",
    "plt.show()"
   ]
  },
  {
   "cell_type": "markdown",
   "metadata": {},
   "source": [
    "## Sources\n",
    "\n",
    "https://towardsdatascience.com/how-to-parse-json-data-with-python-pandas-f84fbd0b1025 \n",
    "\n",
    "https://www.codegrepper.com/code-examples/python/add+two+dataframes+pandas\n",
    "\n",
    "https://www.codegrepper.com/code-examples/python/parse+string+in+pandas+dataframe\n",
    "\n",
    "https://pandas.pydata.org/pandas-docs/stable/reference/api/pandas.DataFrame.merge.html\n",
    "\n",
    "https://pandas.pydata.org/docs/reference/api/pandas.DataFrame.to_csv.html\n",
    "\n",
    "https://matplotlib.org/stable/api/_as_gen/matplotlib.pyplot.plot.html"
   ]
  }
 ],
 "metadata": {
  "kernelspec": {
   "display_name": "Python 3",
   "language": "python",
   "name": "python3"
  },
  "language_info": {
   "codemirror_mode": {
    "name": "ipython",
    "version": 3
   },
   "file_extension": ".py",
   "mimetype": "text/x-python",
   "name": "python",
   "nbconvert_exporter": "python",
   "pygments_lexer": "ipython3",
   "version": "3.8.5"
  }
 },
 "nbformat": 4,
 "nbformat_minor": 4
}
